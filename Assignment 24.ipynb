{
 "cells": [
  {
   "cell_type": "code",
   "execution_count": 1,
   "metadata": {},
   "outputs": [],
   "source": [
    "#1. What is the relationship between def statements and lambda expressions ?"
   ]
  },
  {
   "cell_type": "markdown",
   "metadata": {},
   "source": [
    "As an expression, lambda returns a value that can optionally be assigned a name. In contrast, the def statement always \n",
    "assigns the new function to the name in the header, instead of returning is as a result. lambda's body is a single expression, \n",
    "not a block of statements."
   ]
  },
  {
   "cell_type": "code",
   "execution_count": null,
   "metadata": {},
   "outputs": [],
   "source": [
    "#2. What is the benefit of lambda?"
   ]
  },
  {
   "cell_type": "markdown",
   "metadata": {},
   "source": [
    "lambda expressions, we can achieve higher efficiency (parallel execution) in case of bulk operations on collections.\n",
    "Also, lambda expression helps in achieving the internal iteration of collections rather than external iteration."
   ]
  },
  {
   "cell_type": "code",
   "execution_count": 2,
   "metadata": {},
   "outputs": [],
   "source": [
    "#3. Compare and contrast map, filter, and reduce."
   ]
  },
  {
   "cell_type": "markdown",
   "metadata": {},
   "source": [
    "map- The basic function of map() is to manipulate iterables. Map executes all the conditions of a function on the items in \n",
    "the iterable.\n",
    "\n",
    "filter- As the name suggests, it is used to filter the iterables as per the conditions. Filter filters the original iterable \n",
    "and passes the items that returns True for the function provided to filter. \n",
    "Therefore only the items in the iterables can be expected to be seen in the output\n",
    "\n",
    "Reduce- reduce() works differently than map() and filter() . It does not return a new list based on the function and \n",
    "iterable we've passed. Instead, it returns a single value"
   ]
  },
  {
   "cell_type": "code",
   "execution_count": 3,
   "metadata": {},
   "outputs": [],
   "source": [
    "#4. What are function annotations, and how are they used?"
   ]
  },
  {
   "cell_type": "raw",
   "metadata": {},
   "source": [
    "\n",
    "Function annotations provide a way of associating various parts of a function with arbitrary python expressions at compile time\n",
    "\n",
    "Annotations for simple parameters : The argument name is followed by ‘:’ which is then followed by the expression. \n",
    "Annotation syntax is shown below.\n",
    "def foobar(a: expression, b: expression = 5):"
   ]
  },
  {
   "cell_type": "code",
   "execution_count": 4,
   "metadata": {},
   "outputs": [],
   "source": [
    "#5. What are recursive functions, and how are they used?"
   ]
  },
  {
   "cell_type": "markdown",
   "metadata": {},
   "source": [
    "A recursive function is a function defined in terms of itself via self-referential expressions. This means that the \n",
    "function will continue to call itself and repeat its behavior until some condition is met to return a result.\n"
   ]
  },
  {
   "cell_type": "code",
   "execution_count": 5,
   "metadata": {},
   "outputs": [],
   "source": [
    "#6. What are some general design guidelines for coding functions?"
   ]
  },
  {
   "cell_type": "markdown",
   "metadata": {},
   "source": [
    "There must be a space after giving a comma between two function arguments.\n",
    "Each nested block should be properly indented and spaced.\n",
    "Proper Indentation should be there at the beginning and at the end of each block in the program."
   ]
  },
  {
   "cell_type": "code",
   "execution_count": null,
   "metadata": {},
   "outputs": [],
   "source": []
  }
 ],
 "metadata": {
  "kernelspec": {
   "display_name": "Python 3",
   "language": "python",
   "name": "python3"
  },
  "language_info": {
   "codemirror_mode": {
    "name": "ipython",
    "version": 3
   },
   "file_extension": ".py",
   "mimetype": "text/x-python",
   "name": "python",
   "nbconvert_exporter": "python",
   "pygments_lexer": "ipython3",
   "version": "3.7.1"
  }
 },
 "nbformat": 4,
 "nbformat_minor": 2
}
