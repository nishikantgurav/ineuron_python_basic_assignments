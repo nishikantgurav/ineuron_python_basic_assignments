{
 "cells": [
  {
   "cell_type": "code",
   "execution_count": 1,
   "metadata": {},
   "outputs": [],
   "source": [
    "#1. Make a class called Thing with no contents and print it. Then, create an object called example\n",
    "#from this class and also print it. Are the printed values the same or different?\n",
    "class Thing():\n",
    "    pass"
   ]
  },
  {
   "cell_type": "code",
   "execution_count": 2,
   "metadata": {},
   "outputs": [
    {
     "name": "stdout",
     "output_type": "stream",
     "text": [
      "<class '__main__.Thing'>\n"
     ]
    }
   ],
   "source": [
    "print(Thing)"
   ]
  },
  {
   "cell_type": "code",
   "execution_count": 3,
   "metadata": {},
   "outputs": [],
   "source": [
    "example=Thing()"
   ]
  },
  {
   "cell_type": "code",
   "execution_count": 4,
   "metadata": {},
   "outputs": [
    {
     "name": "stdout",
     "output_type": "stream",
     "text": [
      "<__main__.Thing object at 0x0000022219BD00B8>\n"
     ]
    }
   ],
   "source": [
    "print(example)"
   ]
  },
  {
   "cell_type": "code",
   "execution_count": 5,
   "metadata": {},
   "outputs": [],
   "source": [
    "#printed vaues are diffrent "
   ]
  },
  {
   "cell_type": "code",
   "execution_count": 5,
   "metadata": {},
   "outputs": [],
   "source": [
    "#2. Create a new class called Thing2 and add the value 'abc' to the letters class attribute. Letters\n",
    "#should be printed.\n",
    "class Things2():\n",
    "    letters='abc'\n"
   ]
  },
  {
   "cell_type": "code",
   "execution_count": 6,
   "metadata": {},
   "outputs": [
    {
     "name": "stdout",
     "output_type": "stream",
     "text": [
      "abc\n"
     ]
    }
   ],
   "source": [
    "print(Things2.letters)"
   ]
  },
  {
   "cell_type": "code",
   "execution_count": 7,
   "metadata": {},
   "outputs": [
    {
     "name": "stdout",
     "output_type": "stream",
     "text": [
      "abc\n"
     ]
    }
   ],
   "source": [
    "#3. Make yet another class called, of course, Thing3. This time, assign the value 'xyz' to an instance\n",
    "#(object) attribute called letters. Print letters. Do you need to make an object from the class to do this?\n",
    "class Thing3():\n",
    "    def __init__(self,letters):\n",
    "        self.letters=letters\n",
    "t=Thing3('abc')\n",
    "print(t.letters)"
   ]
  },
  {
   "cell_type": "code",
   "execution_count": 18,
   "metadata": {},
   "outputs": [],
   "source": [
    "#Yes need to make an object from the class to do above."
   ]
  },
  {
   "cell_type": "code",
   "execution_count": 8,
   "metadata": {},
   "outputs": [],
   "source": [
    "#4. Create an Element class with the instance attributes name, symbol, and number. Create a class\n",
    "#object with the values 'Hydrogen','H',and 1.\n",
    "class Element():\n",
    "    def __init__(self,name,symbol,number):\n",
    "        self.name=name\n",
    "        self.symbol=symbol\n",
    "        self.number=number\n",
    "e=Element(\"Hydrogen\",\"H\",1)"
   ]
  },
  {
   "cell_type": "code",
   "execution_count": 9,
   "metadata": {},
   "outputs": [
    {
     "name": "stdout",
     "output_type": "stream",
     "text": [
      "<__main__.Element object at 0x0000022219BD0AC8>\n"
     ]
    }
   ],
   "source": [
    "#5. Make a dictionary with these keys and values: 'name':'Hydrogen','symbol':'H','number':1\n",
    "#Then, create an object called hydrogen from class Element using this dictionary.\n",
    "d={'name':'Hydrogen','symbol':'H','number':1}\n",
    "\n",
    "hydrogen = Element(**d)\n",
    "print(hydrogen)"
   ]
  },
  {
   "cell_type": "code",
   "execution_count": 10,
   "metadata": {},
   "outputs": [
    {
     "name": "stdout",
     "output_type": "stream",
     "text": [
      "Hydrogen H 1\n"
     ]
    }
   ],
   "source": [
    "#6. For the Element class, define a method called dump() that prints the values of the objects attribute \n",
    "#(name, symbol, and number). Create the hydrogen object from this new definition and\n",
    "#use dump() to print its attributes.\n",
    "\n",
    "class Element():\n",
    "    def __init__(self,name,symbol,number):\n",
    "        self.name=name\n",
    "        self.symbol=symbol\n",
    "        self.number=number\n",
    "        \n",
    "    def dump(self):\n",
    "        print(self.name,self.symbol,self.number)\n",
    "        \n",
    "hydrogen=Element(**d)\n",
    "hydrogen.dump()"
   ]
  },
  {
   "cell_type": "code",
   "execution_count": 11,
   "metadata": {},
   "outputs": [
    {
     "name": "stdout",
     "output_type": "stream",
     "text": [
      "<__main__.Element object at 0x0000022219BD0F60>\n"
     ]
    }
   ],
   "source": [
    "#7. Call print(hydrogen). In the definition of Element, change the name of method dump to __str__.create a new hydrogen object, \n",
    "#and call print(hydrogen) again.\n",
    "\n",
    "print(hydrogen)"
   ]
  },
  {
   "cell_type": "code",
   "execution_count": 12,
   "metadata": {},
   "outputs": [
    {
     "name": "stdout",
     "output_type": "stream",
     "text": [
      "the name,symbol and number of Hydrogen are: Hydrogen,H and 1\n"
     ]
    }
   ],
   "source": [
    "class Element():\n",
    "    def __init__(self,name,symbol,number):\n",
    "        self.name=name\n",
    "        self.symbol=symbol\n",
    "        self.number=number\n",
    "        \n",
    "    def __str__(self):\n",
    "        return \"the name,symbol and number of Hydrogen are: {},{} and {}\".format(self.name,self.symbol,self.number)\n",
    "hydrogen=Element(**d)\n",
    "print(hydrogen)"
   ]
  },
  {
   "cell_type": "code",
   "execution_count": 14,
   "metadata": {},
   "outputs": [
    {
     "name": "stdout",
     "output_type": "stream",
     "text": [
      "getter method called\n"
     ]
    },
    {
     "ename": "NameError",
     "evalue": "name 'self__' is not defined",
     "output_type": "error",
     "traceback": [
      "\u001b[1;31m---------------------------------------------------------------------------\u001b[0m",
      "\u001b[1;31mNameError\u001b[0m                                 Traceback (most recent call last)",
      "\u001b[1;32m<ipython-input-14-1fc62bbffe21>\u001b[0m in \u001b[0;36m<module>\u001b[1;34m\u001b[0m\n\u001b[0;32m     19\u001b[0m \u001b[1;33m\u001b[0m\u001b[0m\n\u001b[0;32m     20\u001b[0m \u001b[0mhydrogen\u001b[0m\u001b[1;33m=\u001b[0m\u001b[0mElement\u001b[0m\u001b[1;33m(\u001b[0m\u001b[1;33m**\u001b[0m\u001b[0md\u001b[0m\u001b[1;33m)\u001b[0m\u001b[1;33m\u001b[0m\u001b[1;33m\u001b[0m\u001b[0m\n\u001b[1;32m---> 21\u001b[1;33m \u001b[0mprint\u001b[0m\u001b[1;33m(\u001b[0m\u001b[0mhydrogen\u001b[0m\u001b[1;33m.\u001b[0m\u001b[0mgetter\u001b[0m\u001b[1;33m)\u001b[0m\u001b[1;33m\u001b[0m\u001b[1;33m\u001b[0m\u001b[0m\n\u001b[0m\u001b[0;32m     22\u001b[0m \u001b[1;31m#print(hydrogen.getter)\u001b[0m\u001b[1;33m\u001b[0m\u001b[1;33m\u001b[0m\u001b[1;33m\u001b[0m\u001b[0m\n\u001b[0;32m     23\u001b[0m \u001b[1;31m#print(hydrogen.getter)\u001b[0m\u001b[1;33m\u001b[0m\u001b[1;33m\u001b[0m\u001b[1;33m\u001b[0m\u001b[0m\n",
      "\u001b[1;32m<ipython-input-14-1fc62bbffe21>\u001b[0m in \u001b[0;36mget_name_symbol_number\u001b[1;34m(self)\u001b[0m\n\u001b[0;32m      9\u001b[0m     \u001b[1;32mdef\u001b[0m \u001b[0mget_name_symbol_number\u001b[0m\u001b[1;33m(\u001b[0m\u001b[0mself\u001b[0m\u001b[1;33m)\u001b[0m\u001b[1;33m:\u001b[0m\u001b[1;33m\u001b[0m\u001b[1;33m\u001b[0m\u001b[0m\n\u001b[0;32m     10\u001b[0m         \u001b[0mprint\u001b[0m\u001b[1;33m(\u001b[0m\u001b[1;34m\"getter method called\"\u001b[0m\u001b[1;33m)\u001b[0m\u001b[1;33m\u001b[0m\u001b[1;33m\u001b[0m\u001b[0m\n\u001b[1;32m---> 11\u001b[1;33m         \u001b[1;32mreturn\u001b[0m \u001b[0mself\u001b[0m\u001b[1;33m.\u001b[0m\u001b[0m__name\u001b[0m\u001b[1;33m,\u001b[0m\u001b[0mself\u001b[0m\u001b[1;33m.\u001b[0m\u001b[0m__symbol\u001b[0m\u001b[1;33m,\u001b[0m\u001b[0mself__\u001b[0m\u001b[1;33m.\u001b[0m\u001b[0mnumber\u001b[0m\u001b[1;33m\u001b[0m\u001b[1;33m\u001b[0m\u001b[0m\n\u001b[0m\u001b[0;32m     12\u001b[0m \u001b[1;33m\u001b[0m\u001b[0m\n\u001b[0;32m     13\u001b[0m \u001b[1;33m\u001b[0m\u001b[0m\n",
      "\u001b[1;31mNameError\u001b[0m: name 'self__' is not defined"
     ]
    }
   ],
   "source": [
    "#8. Modify Element to make the attributes name, symbol, and number private. Define a getter\n",
    "#property for each to return its value.\n",
    "class Element():\n",
    "    def __init__(self,name,symbol,number):\n",
    "        self.__name=name\n",
    "        self.__symbol=symbol\n",
    "        self.__number=number\n",
    "        \n",
    "    def get_name_symbol_number(self):\n",
    "        print(\"getter method called\")\n",
    "        return self.__name,self.__symbol,self__.number\n",
    "    \n",
    "    \n",
    "        \n",
    "    def __str__(self):\n",
    "        return \"the name,symbol and number of Hydrogen are: {},{} and {}\".format(self.name,self.symbol,self.number)\n",
    "    \n",
    "    getter = property(get_name_symbol_number) \n",
    "\n",
    "hydrogen=Element(**d)\n",
    "print(hydrogen.getter)\n",
    "#print(hydrogen.getter)\n",
    "#print(hydrogen.getter)\n",
    "\n"
   ]
  },
  {
   "cell_type": "code",
   "execution_count": 2,
   "metadata": {},
   "outputs": [
    {
     "name": "stdout",
     "output_type": "stream",
     "text": [
      "berries\n",
      "clover\n",
      "campers\n"
     ]
    }
   ],
   "source": [
    "#Define three classes: Bear, Rabbit, and Octothorpe. For each, define only one method:eats().This should return 'berries'(Bear)\n",
    "#'clover'(Rabbit) or 'campers'(Octothorpe). Create one object from each and print what it eats.\n",
    "\n",
    "class Bear():\n",
    "    def eats(self):\n",
    "        return \"berries\"\n",
    "    \n",
    "\n",
    "class Rabbit():\n",
    "    def eats(self):\n",
    "        return \"clover\"\n",
    "    \n",
    "    \n",
    "class Octothorpe():\n",
    "    def eats(self):\n",
    "        return \"campers\"\n",
    "    \n",
    "br=Bear()\n",
    "rbt=Rabbit()\n",
    "oc=Octothorpe()\n",
    "print(br.eats())\n",
    "print(rbt.eats())\n",
    "print(oc.eats())\n",
    "    "
   ]
  },
  {
   "cell_type": "code",
   "execution_count": 5,
   "metadata": {},
   "outputs": [
    {
     "data": {
      "text/plain": [
       "(<__main__.Laser at 0x2b1fc4a7fd0>,\n",
       " <__main__.Craw at 0x2b1fc4a7f60>,\n",
       " <__main__.Smartphone at 0x2b1fc4a7f98>)"
      ]
     },
     "execution_count": 5,
     "metadata": {},
     "output_type": "execute_result"
    }
   ],
   "source": [
    "#10. Define these classes: Laser, Claw, and SmartPhone. Each has only one method: does(). This returns 'disintegrate'(Laser),\n",
    "#'crush'(Craw), or 'ring'(Smartphone). Then, define the class Robot that\n",
    "#has one instance (object) of each of these. Define a does() method for the Robot that prints what its component objects do.\n",
    "\n",
    "\n",
    "class Laser():\n",
    "    def does(self):\n",
    "        return \"disintegrate\"\n",
    "    \n",
    "class Craw():\n",
    "    def does(self):\n",
    "        return \"crush\"\n",
    "    \n",
    "class Smartphone():\n",
    "    def does(self):\n",
    "        return \"ring\"\n",
    "\n",
    "la=Laser()\n",
    "cr=Craw()\n",
    "sm=Smartphone()\n",
    "\n",
    "class Robot():\n",
    "    def __init__(self,x,y,z):\n",
    "        super().__init__()\n",
    "        self.x=x\n",
    "        self.y=y\n",
    "        self.z=z\n",
    "    \n",
    "    def does(self):\n",
    "        return self.x,self.y,self.z\n",
    "        \n",
    "r=Robot(la,cr,sm)\n",
    "r.does()\n",
    "    \n",
    "    \n",
    "    "
   ]
  },
  {
   "cell_type": "code",
   "execution_count": null,
   "metadata": {},
   "outputs": [],
   "source": [
    "print(2)"
   ]
  },
  {
   "cell_type": "code",
   "execution_count": null,
   "metadata": {},
   "outputs": [],
   "source": []
  }
 ],
 "metadata": {
  "kernelspec": {
   "display_name": "Python 3",
   "language": "python",
   "name": "python3"
  },
  "language_info": {
   "codemirror_mode": {
    "name": "ipython",
    "version": 3
   },
   "file_extension": ".py",
   "mimetype": "text/x-python",
   "name": "python",
   "nbconvert_exporter": "python",
   "pygments_lexer": "ipython3",
   "version": "3.7.1"
  }
 },
 "nbformat": 4,
 "nbformat_minor": 2
}
