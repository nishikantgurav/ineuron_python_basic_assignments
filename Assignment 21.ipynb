{
 "cells": [
  {
   "cell_type": "code",
   "execution_count": 2,
   "metadata": {},
   "outputs": [],
   "source": [
    "#1.Add the current date to the text file today.txt as a string.\n",
    "from datetime import date \n",
    "current_date = date.today()\n",
    "current_date_string = str(current_date)\n",
    "#extension = \".txt\"\n",
    "#file_name =  current_date_string + extension\n",
    "file = open('today.txt', 'w')\n",
    "file.write(current_date_string)\n",
    "file.close()\n"
   ]
  },
  {
   "cell_type": "code",
   "execution_count": 3,
   "metadata": {},
   "outputs": [
    {
     "data": {
      "text/plain": [
       "'2021-05-30'"
      ]
     },
     "execution_count": 3,
     "metadata": {},
     "output_type": "execute_result"
    }
   ],
   "source": [
    "#2. Read the text file today.txt into the string today_string\n",
    "file = open('today.txt', 'r')\n",
    "today_string=file.read()\n",
    "today_string"
   ]
  },
  {
   "cell_type": "code",
   "execution_count": 5,
   "metadata": {},
   "outputs": [
    {
     "name": "stdout",
     "output_type": "stream",
     "text": [
      "Date: 2021-05-30\n"
     ]
    }
   ],
   "source": [
    "#3. Parse the date from today_string.\n",
    "import datetime\n",
    "date_time_obj = datetime.datetime.strptime(today_string, '%Y-%m-%d')\n",
    "print('Date:', date_time_obj.date())\n",
    "\n"
   ]
  },
  {
   "cell_type": "code",
   "execution_count": 7,
   "metadata": {},
   "outputs": [
    {
     "data": {
      "text/plain": [
       "['.idea',\n",
       " '.ipynb_checkpoints',\n",
       " '2021-05-30.txt',\n",
       " 'Asignment 2.ipynb',\n",
       " 'Assignment 10.ipynb',\n",
       " 'Assignment 11.ipynb',\n",
       " 'Assignment 12.ipynb',\n",
       " 'Assignment 13.ipynb',\n",
       " 'Assignment 14.ipynb',\n",
       " 'Assignment 15.ipynb',\n",
       " 'Assignment 16.ipynb',\n",
       " 'Assignment 17.ipynb',\n",
       " 'Assignment 19.ipynb',\n",
       " 'Assignment 20.ipynb',\n",
       " 'Assignment 21.ipynb',\n",
       " 'Assignment 3.ipynb',\n",
       " 'Assignment 4.ipynb',\n",
       " 'Assignment 5.ipynb',\n",
       " 'Assignment 6.ipynb',\n",
       " 'Assignment 8.ipynb',\n",
       " 'Assignment 9.ipynb',\n",
       " 'Assignment no 7 .ipynb',\n",
       " 'Assignment-1.ipynb',\n",
       " 'books',\n",
       " 'books.csv',\n",
       " 'books.db',\n",
       " 'csvfile',\n",
       " 'test.txt',\n",
       " 'today.txt',\n",
       " 'zoo.py',\n",
       " 'zoo1.py',\n",
       " '__pycache__']"
      ]
     },
     "execution_count": 7,
     "metadata": {},
     "output_type": "execute_result"
    }
   ],
   "source": [
    "#4. List the files in your current directory\n",
    "import os\n",
    "os.listdir('.')"
   ]
  },
  {
   "cell_type": "code",
   "execution_count": 11,
   "metadata": {},
   "outputs": [
    {
     "data": {
      "text/plain": [
       "'C:\\\\Users\\\\Admin\\\\Desktop\\\\ineuron_internship\\\\'"
      ]
     },
     "execution_count": 11,
     "metadata": {},
     "output_type": "execute_result"
    }
   ],
   "source": [
    "#5. Create a list of all of the files in your parent directory (minimum five files should be available).\n",
    "import os\n",
    "import os.path\n",
    "#var=os.path.dirname('..\\\\ineuron_internship\\\\Python_Basic_Assignments')\n",
    "#os.listdir(var)\n",
    "os.path.abspath('../')"
   ]
  },
  {
   "cell_type": "code",
   "execution_count": 18,
   "metadata": {},
   "outputs": [
    {
     "data": {
      "text/plain": [
       "['live_session_notebook', 'Python_Basic_Assignments', 'xyz.txt']"
      ]
     },
     "execution_count": 18,
     "metadata": {},
     "output_type": "execute_result"
    }
   ],
   "source": [
    " os.listdir(os.path.dirname('C:\\\\Users\\\\Admin\\\\Desktop\\\\ineuron_internship\\\\'))"
   ]
  },
  {
   "cell_type": "code",
   "execution_count": 13,
   "metadata": {},
   "outputs": [],
   "source": [
    "#6. Use multiprocessing to create three separate processes. Make each one wait a random number of\n",
    "#seconds between one and five, print the current time, and then exit.\n",
    "\n",
    "import multiprocessing\n",
    "import random\n",
    "import time\n",
    "def worker(process):\n",
    "    print(f'Started {process}')\n",
    "    wait_time = random.choice(range(1, 5))\n",
    "\n",
    "    time.sleep(wait_time)\n",
    "\n",
    "    \n",
    "if __name__ == '__main__':\n",
    "\n",
    "    processes = []\n",
    "\n",
    "    for i in range(3):\n",
    "\n",
    "        process = multiprocessing.Process(target=worker, \n",
    "\n",
    "                                          args=(f'process_{i}',))\n",
    "\n",
    "        processes.append(process)\n",
    "\n",
    "        process.start()\n",
    "\n",
    "        \n",
    "\n",
    "    for proc in processes:\n",
    "\n",
    "        proc.join()"
   ]
  },
  {
   "cell_type": "code",
   "execution_count": 1,
   "metadata": {},
   "outputs": [
    {
     "name": "stdout",
     "output_type": "stream",
     "text": [
      "1994-08-19 00:00:00\n"
     ]
    }
   ],
   "source": [
    "#7. Create a date object of your day of birth.\n",
    "import datetime\n",
    "\n",
    "x = datetime.datetime(1994, 8, 19)\n",
    "\n",
    "print(x)"
   ]
  },
  {
   "cell_type": "code",
   "execution_count": 13,
   "metadata": {},
   "outputs": [
    {
     "name": "stdout",
     "output_type": "stream",
     "text": [
      "Friday\n"
     ]
    }
   ],
   "source": [
    "#8. What day of the week was your day of birth?\n",
    "import datetime\n",
    "\n",
    "week_days=[\"Monday\",\"Tuesday\",\"Wednesday\",\"Thursday\",\"Friday\",\"Saturday\",\"Sunday\"]\n",
    "\n",
    "week_num=datetime. date(1994,8,19). weekday()\n",
    "\n",
    "print(week_days[week_num])"
   ]
  },
  {
   "cell_type": "code",
   "execution_count": null,
   "metadata": {},
   "outputs": [],
   "source": []
  }
 ],
 "metadata": {
  "kernelspec": {
   "display_name": "Python 3",
   "language": "python",
   "name": "python3"
  },
  "language_info": {
   "codemirror_mode": {
    "name": "ipython",
    "version": 3
   },
   "file_extension": ".py",
   "mimetype": "text/x-python",
   "name": "python",
   "nbconvert_exporter": "python",
   "pygments_lexer": "ipython3",
   "version": "3.7.1"
  }
 },
 "nbformat": 4,
 "nbformat_minor": 2
}
