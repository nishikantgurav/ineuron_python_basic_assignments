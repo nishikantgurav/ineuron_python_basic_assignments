{
 "cells": [
  {
   "cell_type": "code",
   "execution_count": null,
   "metadata": {},
   "outputs": [],
   "source": [
    "### 1. In the below elements which of them are values or an expression? eg:- values can be\n",
    "### integer or string and expressions will be mathematical operators.\n",
    "values are \"hello\", -87.8, 6\n",
    "expressions are +, -, *, /"
   ]
  },
  {
   "cell_type": "code",
   "execution_count": null,
   "metadata": {},
   "outputs": [],
   "source": [
    "### 2. What is the difference between string and variable?\n",
    "strings are basically a plain text. It may may be a sentence or a word or a letter.strings are always enclosed in double \n",
    "or single quotes.In short,anything under quotes is a string.\n",
    "variables are the containers where we can store the data. Data can be strings,integers,floats,boolean,list,tuple..etc"
   ]
  },
  {
   "cell_type": "code",
   "execution_count": null,
   "metadata": {},
   "outputs": [],
   "source": [
    "#3. Describe three different data types.\n",
    "1.integer-(int )= all the numbers without decimal part.\n",
    "2.float-(float )= all the numbers with decimal part.\n",
    "3.string-(str) = strings are basically a plain text. It may may be a sentence or a word or a letter.\n",
    "strings are always enclosed in double or single quotes."
   ]
  },
  {
   "cell_type": "code",
   "execution_count": null,
   "metadata": {},
   "outputs": [],
   "source": [
    "#4. What is an expression made up of? What do all expressions do?\n",
    "Expression is a combination of variables, operations and values that yields a result value.\n",
    "expressions evaluates the oparations and results into a value."
   ]
  },
  {
   "cell_type": "code",
   "execution_count": null,
   "metadata": {},
   "outputs": [],
   "source": [
    "#5. This assignment statements, like spam = 10. What is the difference between an\n",
    "#expression and a statement?\n",
    "If you can print it, or assign it to a variable, it’s an expression. If you can’t, it’s a statement.\n",
    "Here are some examples of expressions:\n",
    "2 + 2 \n",
    "3 * 7 \n",
    "1 + 2 + 3 * (8 ** 9) - sqrt(4.0) \n",
    "min(2, 22) \n",
    "max(3, 94) \n",
    "round(81.5) \n",
    "\"foo\" \n",
    "\"bar\"\n",
    "True\n",
    "All of the above can be printed or assigned to a variable.\n",
    "\n",
    "Here are some examples of statements:\n",
    "if CONDITION: \n",
    "elif CONDITION: \n",
    "else: \n",
    "for VARIABLE in SEQUENCE: \n",
    "while CONDITION: \n",
    "try: \n",
    "except EXCEPTION as e: \n",
    "class MYCLASS: \n",
    "\n",
    "None of the above constructs can be assigned to a variable. They are syntactic elements that serve a purpose."
   ]
  },
  {
   "cell_type": "code",
   "execution_count": null,
   "metadata": {},
   "outputs": [],
   "source": [
    "#6. After running the following code, what does the variable bacon contain?\n",
    "bacon = 22\n",
    "bacon + 1\n",
    "answer=22\n",
    "bacon contain value 22"
   ]
  },
  {
   "cell_type": "code",
   "execution_count": null,
   "metadata": {},
   "outputs": [],
   "source": [
    "#7. What should the values of the following two terms be?\n",
    "'spam'+'spamspam'= 'spamspamspam'\n",
    "'spam'*3 = 'spamspamspam'"
   ]
  },
  {
   "cell_type": "code",
   "execution_count": null,
   "metadata": {},
   "outputs": [],
   "source": [
    "#Why is eggs a valid variable name while 100 is invalid?\n",
    "eggs is valid variable name but 100 is invalid because variable names cannot begin with  a number. we can give it as x_100 or \n",
    "_100 as well."
   ]
  },
  {
   "cell_type": "code",
   "execution_count": null,
   "metadata": {},
   "outputs": [],
   "source": [
    "#9. What three functions can be used to get the integer, floating-point number, or string\n",
    "#version of a value?\n",
    "to get integer use int\n",
    "to get floating point number use float\n",
    "to get the string use str"
   ]
  },
  {
   "cell_type": "code",
   "execution_count": null,
   "metadata": {},
   "outputs": [],
   "source": [
    "#10. Why does this expression cause an error? How can you fix it?\n",
    "'I have eaten' + 99 + 'burritos'\n",
    "this will cause an error because we can caoncatenate only 2 strings together , we cannot concatenate a number and a string\n",
    "to do this we have to convert that number 99 to a string using str function."
   ]
  }
 ],
 "metadata": {
  "kernelspec": {
   "display_name": "Python 3",
   "language": "python",
   "name": "python3"
  },
  "language_info": {
   "codemirror_mode": {
    "name": "ipython",
    "version": 3
   },
   "file_extension": ".py",
   "mimetype": "text/x-python",
   "name": "python",
   "nbconvert_exporter": "python",
   "pygments_lexer": "ipython3",
   "version": "3.7.1"
  }
 },
 "nbformat": 4,
 "nbformat_minor": 2
}
