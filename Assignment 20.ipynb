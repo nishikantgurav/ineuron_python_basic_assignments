{
 "cells": [
  {
   "cell_type": "code",
   "execution_count": 1,
   "metadata": {},
   "outputs": [],
   "source": [
    "#1. Set the variable test1 to the string'This is a test of the emergency text system,' and save test1 to a\n",
    "#file named test.txt.\n",
    "\n",
    "test1='This is a test of the emergency text system'\n",
    "text_file = open(\"test.txt\", \"w\")\n",
    "n = text_file.write(test1)\n",
    "text_file.close()\n",
    "\n"
   ]
  },
  {
   "cell_type": "code",
   "execution_count": 2,
   "metadata": {},
   "outputs": [
    {
     "data": {
      "text/plain": [
       "'This is a test of the emergency text system'"
      ]
     },
     "execution_count": 2,
     "metadata": {},
     "output_type": "execute_result"
    }
   ],
   "source": [
    "#2. Read the contents of the file test.txt into the variable test2. Is there a difference between test 1\n",
    "#and test 2?\n",
    "test2=open('test.txt','r')\n",
    "test2.read()"
   ]
  },
  {
   "cell_type": "code",
   "execution_count": 4,
   "metadata": {},
   "outputs": [],
   "source": [
    "#NO difference"
   ]
  },
  {
   "cell_type": "code",
   "execution_count": 3,
   "metadata": {},
   "outputs": [],
   "source": [
    "#3. Create a CSV file called books.csv by using these lines:\n",
    "# title,author,year\n",
    "# The Weirdstone of Brisingamen,Alan Garner,1960\n",
    "# Perdido Street Station,China Miéville,2000\n",
    "# Thud!,Terry Pratchett,2005\n",
    "# The Spellman Files,Lisa Lutz,2007\n",
    "# Small Gods,Terry Pratchett,1992\n",
    "\n",
    "import csv\n",
    "books = [['title', 'author','year'],['The Weirdstone of Brisingamen', 'Alan Garner',1960],\n",
    "            ['Perdido Street Station', 'China Miéville',2000],['Thud!', 'Terry Pratchett',2005],\n",
    "            ['The Spellman Files','Lisa Lutz',2007],\n",
    "            ['Small Gods','Terry Pratchett',1992]\n",
    "           ]\n",
    "\n",
    "with open('books.csv', 'wt') as f:\n",
    "    csvout = csv.writer(f)\n",
    "    csvout.writerows(books)\n"
   ]
  },
  {
   "cell_type": "code",
   "execution_count": 4,
   "metadata": {},
   "outputs": [],
   "source": [
    "#4. Use the sqlite3 module to create a SQLite database called books.db, and a table called books with\n",
    "#these fields: title (text), author (text), and year (integer).\n",
    "\n",
    "import sqlite3\n"
   ]
  },
  {
   "cell_type": "code",
   "execution_count": 5,
   "metadata": {},
   "outputs": [
    {
     "data": {
      "text/plain": [
       "<sqlite3.Connection at 0x2eefff389d0>"
      ]
     },
     "execution_count": 5,
     "metadata": {},
     "output_type": "execute_result"
    }
   ],
   "source": [
    "mydb=sqlite3.connect('books.db')\n",
    "mydb"
   ]
  },
  {
   "cell_type": "code",
   "execution_count": 6,
   "metadata": {},
   "outputs": [],
   "source": [
    "mycursor=mydb.cursor()"
   ]
  },
  {
   "cell_type": "code",
   "execution_count": 7,
   "metadata": {},
   "outputs": [
    {
     "data": {
      "text/plain": [
       "<sqlite3.Cursor at 0x2eefff1ed50>"
      ]
     },
     "execution_count": 7,
     "metadata": {},
     "output_type": "execute_result"
    }
   ],
   "source": [
    "mycursor.execute('CREATE TABLE books4( title TEXT, author TEXT, year INTEGER)')"
   ]
  },
  {
   "cell_type": "code",
   "execution_count": null,
   "metadata": {},
   "outputs": [],
   "source": [
    "import csv\n",
    "inserted,not_inserted = 0,0\n",
    "with open('books.csv','r') as data:\n",
    "    next(data)\n",
    "    data_csv = csv.reader(data,delimiter='\\n')\n",
    "    for i in data_csv:\n",
    "        try:\n",
    "            mycursor.execute('INSERT INTO books4(title, author,  year) VALUES(' +str(i[0] +')')\n",
    "            inserted += 1\n",
    "        except Exception as e:\n",
    "            print(e)\n",
    "            not_inserted+=1\n",
    "    #mycursor.execute('INSERT INTO books3 VALUES(data_csv)')\n",
    "            "
   ]
  },
  {
   "cell_type": "code",
   "execution_count": null,
   "metadata": {},
   "outputs": [],
   "source": [
    "'''9. Install the Redis server and the Python redis library (pip install redis) on your computer. Create a\n",
    "Redis hash called test with the fields count (1) and name ('Fester Bestertester'). Print all the fields for\n",
    "test.'''"
   ]
  },
  {
   "cell_type": "code",
   "execution_count": 9,
   "metadata": {},
   "outputs": [
    {
     "name": "stdout",
     "output_type": "stream",
     "text": [
      "Collecting redis==3.0\n",
      "  Downloading redis-3.0.0-py2.py3-none-any.whl (61 kB)\n",
      "Installing collected packages: redis\n",
      "  Attempting uninstall: redis\n",
      "    Found existing installation: redis 3.5.3\n",
      "    Uninstalling redis-3.5.3:\n",
      "      Successfully uninstalled redis-3.5.3\n",
      "Successfully installed redis-3.0.0\n"
     ]
    },
    {
     "name": "stderr",
     "output_type": "stream",
     "text": [
      "WARNING: You are using pip version 21.1.1; however, version 21.1.2 is available.\n",
      "You should consider upgrading via the 'c:\\users\\admin\\anaconda3\\python.exe -m pip install --upgrade pip' command.\n"
     ]
    }
   ],
   "source": [
    "!pip3 install redis==3.0"
   ]
  },
  {
   "cell_type": "code",
   "execution_count": null,
   "metadata": {},
   "outputs": [],
   "source": [
    "import redis\n",
    "\n",
    "redis = redis.Redis(host= 'localhost',port=6379, db=0)\n",
    "\n",
    "redis.set('count', '0')\n",
    "redis.set('name', 'Fester Bestertester')\n",
    "value = redis.get('count')\n",
    "value1 = redis.get('count') \n",
    "print(value)\n",
    "print(value1)\n"
   ]
  },
  {
   "cell_type": "code",
   "execution_count": null,
   "metadata": {},
   "outputs": [],
   "source": [
    "#8. Use the sqlalchemy module to connect to the sqlite3 database books.db that you just made in\n",
    "#exercise 6."
   ]
  },
  {
   "cell_type": "code",
   "execution_count": 11,
   "metadata": {},
   "outputs": [],
   "source": [
    "import sqlalchemy\n",
    "from sqlalchemy import create_engine\n",
    "\n",
    "engine = create_engine('sqlite:///books.db') # using relative path\n",
    "#engine = create_engine('sqlite:////path/to/books.db') # using absolute path\n"
   ]
  },
  {
   "cell_type": "code",
   "execution_count": null,
   "metadata": {},
   "outputs": [],
   "source": []
  }
 ],
 "metadata": {
  "kernelspec": {
   "display_name": "Python 3",
   "language": "python",
   "name": "python3"
  },
  "language_info": {
   "codemirror_mode": {
    "name": "ipython",
    "version": 3
   },
   "file_extension": ".py",
   "mimetype": "text/x-python",
   "name": "python",
   "nbconvert_exporter": "python",
   "pygments_lexer": "ipython3",
   "version": "3.7.1"
  }
 },
 "nbformat": 4,
 "nbformat_minor": 2
}
