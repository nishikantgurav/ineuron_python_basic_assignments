{
 "cells": [
  {
   "cell_type": "code",
   "execution_count": 1,
   "metadata": {},
   "outputs": [],
   "source": [
    "#1. Create a list called years_list, starting with the year of your birth, and each year thereafter until\n",
    "#the year of your fifth birthday. For example, if you were born in 1980. the list would be years_list =\n",
    "#[1980, 1981, 1982, 1983, 1984, 1985].\n",
    "years_list = [1992, 1993, 1994, 1995, 1996, 1997]"
   ]
  },
  {
   "cell_type": "code",
   "execution_count": 2,
   "metadata": {},
   "outputs": [
    {
     "data": {
      "text/plain": [
       "1994"
      ]
     },
     "execution_count": 2,
     "metadata": {},
     "output_type": "execute_result"
    }
   ],
   "source": [
    "#2. In which year in years_list was your third birthday? Remember, you were 0 years of age for your\n",
    "#first year.\n",
    "years_list[2]"
   ]
  },
  {
   "cell_type": "code",
   "execution_count": null,
   "metadata": {},
   "outputs": [],
   "source": [
    "#3.In the years list, which year were you the oldest?\n",
    "1997"
   ]
  },
  {
   "cell_type": "code",
   "execution_count": 2,
   "metadata": {},
   "outputs": [
    {
     "data": {
      "text/plain": [
       "['mozzarella', 'cinderella', 'salmonella']"
      ]
     },
     "execution_count": 2,
     "metadata": {},
     "output_type": "execute_result"
    }
   ],
   "source": [
    "#4. Make a list called things with these three strings as elements:'mozzarella','cinderella','salmonella'.\n",
    "things=['mozzarella','cinderella','salmonella']\n",
    "things"
   ]
  },
  {
   "cell_type": "code",
   "execution_count": 4,
   "metadata": {},
   "outputs": [
    {
     "name": "stdout",
     "output_type": "stream",
     "text": [
      "['mozzarella', 'cinderella', 'salmonella']\n"
     ]
    }
   ],
   "source": [
    "#5. Capitalize the element in things that refers to a person and then print the list. Did it change the\n",
    "#element in the list?\n",
    "things[1].upper()\n",
    "print(things)"
   ]
  },
  {
   "cell_type": "code",
   "execution_count": 5,
   "metadata": {},
   "outputs": [],
   "source": [
    "#6. Make a surprise list with the elements \"Groucho\", \"Chico\", and & \"Harpo\".\n",
    "surprise = [\"Groucho\", \"Chico\", \"Harpo\"]"
   ]
  },
  {
   "cell_type": "code",
   "execution_count": 28,
   "metadata": {},
   "outputs": [
    {
     "data": {
      "text/plain": [
       "'HARPO'"
      ]
     },
     "execution_count": 28,
     "metadata": {},
     "output_type": "execute_result"
    }
   ],
   "source": [
    "#7. Lowercase the last element of the surprise list, reverse it, and then capitalize it.\n",
    "surprise[2].lower()\n",
    "surprise[2][::-1].upper()\n",
    "surprise[2]"
   ]
  },
  {
   "cell_type": "code",
   "execution_count": 29,
   "metadata": {},
   "outputs": [
    {
     "name": "stdout",
     "output_type": "stream",
     "text": [
      "['Groucho', 'Chico', 'HARPO']\n"
     ]
    }
   ],
   "source": [
    "print(surprise)\n"
   ]
  },
  {
   "cell_type": "code",
   "execution_count": null,
   "metadata": {},
   "outputs": [],
   "source": [
    "#8. Make an English-to-French dictionary called e2f and print it. Here are your starter words: dog is\n",
    "#chien, cat is chat, and walrus is morse.\n",
    "\n",
    "e2f  = {'dog':\"chien\",\"cat\":\"chat\",\"walrus\":\"morse\"}"
   ]
  },
  {
   "cell_type": "code",
   "execution_count": 36,
   "metadata": {},
   "outputs": [
    {
     "name": "stdout",
     "output_type": "stream",
     "text": [
      "morse\n"
     ]
    }
   ],
   "source": [
    "#9. Write the French word for walrus in your three-word dictionary e2f.\n",
    "print(e2f['walrus'])"
   ]
  },
  {
   "cell_type": "code",
   "execution_count": 34,
   "metadata": {},
   "outputs": [
    {
     "name": "stdout",
     "output_type": "stream",
     "text": [
      "{'chien': 'dog', 'chat': 'cat', 'morse': 'walrus'}\n"
     ]
    }
   ],
   "source": [
    "#10. Make a French-to-English dictionary called f2e from e2f. Use the items method.\n",
    "\n",
    "f2e = {value:key for key, value in e2f.items()}\n",
    "\n",
    "print(f2e)"
   ]
  },
  {
   "cell_type": "code",
   "execution_count": 35,
   "metadata": {},
   "outputs": [
    {
     "name": "stdout",
     "output_type": "stream",
     "text": [
      "dog\n"
     ]
    }
   ],
   "source": [
    "#11. Print the English version of the French word chien using f2e.\n",
    "\n",
    "print(f2e['chien'])"
   ]
  },
  {
   "cell_type": "code",
   "execution_count": 41,
   "metadata": {},
   "outputs": [
    {
     "name": "stdout",
     "output_type": "stream",
     "text": [
      "['dog', 'cat', 'walrus']\n"
     ]
    }
   ],
   "source": [
    "#12. Make and print a set of English words from the keys in e2f.\n",
    "x=[]\n",
    "for key in e2f.keys():\n",
    "    x.append(key)\n",
    "print(x)\n",
    "    "
   ]
  },
  {
   "cell_type": "code",
   "execution_count": 43,
   "metadata": {},
   "outputs": [],
   "source": [
    "#13. Make a multilevel dictionary called life. Use these strings for the topmost keys:'animals', 'plants',\n",
    "#and 'other'. Make the 'animals' key refer to another dictionary with the keys 'cats', 'octopi', and\n",
    "#'emus'. Make the 'cats' key refer to a list of strings with the values 'Henri','Grumpy', and 'Lucy'.\n",
    "#Make all the other keys refer to empty dictionaries.\n",
    "\n",
    "life= {'animals':{'cats':['Henri','Grumpy','Lucy'],'octopi':{},'emus':{}},'plants':{},'other':{}}"
   ]
  },
  {
   "cell_type": "code",
   "execution_count": 44,
   "metadata": {},
   "outputs": [
    {
     "name": "stdout",
     "output_type": "stream",
     "text": [
      "animals\n",
      "plants\n",
      "other\n"
     ]
    }
   ],
   "source": [
    "#14. Print the top-level keys of life.\n",
    "for key in life.keys():\n",
    "    print(key)"
   ]
  },
  {
   "cell_type": "code",
   "execution_count": 45,
   "metadata": {},
   "outputs": [
    {
     "name": "stdout",
     "output_type": "stream",
     "text": [
      "cats\n",
      "octopi\n",
      "emus\n"
     ]
    }
   ],
   "source": [
    "#15. Print the keys for life['animals'].\n",
    "for key in life['animals']:\n",
    "    print(key)"
   ]
  },
  {
   "cell_type": "code",
   "execution_count": 47,
   "metadata": {},
   "outputs": [
    {
     "name": "stdout",
     "output_type": "stream",
     "text": [
      "['Henri', 'Grumpy', 'Lucy']\n"
     ]
    }
   ],
   "source": [
    "#16. Print the values for life['animals']['cats']\n",
    "print(life['animals']['cats'])"
   ]
  },
  {
   "cell_type": "code",
   "execution_count": null,
   "metadata": {},
   "outputs": [],
   "source": []
  }
 ],
 "metadata": {
  "kernelspec": {
   "display_name": "Python 3",
   "language": "python",
   "name": "python3"
  },
  "language_info": {
   "codemirror_mode": {
    "name": "ipython",
    "version": 3
   },
   "file_extension": ".py",
   "mimetype": "text/x-python",
   "name": "python",
   "nbconvert_exporter": "python",
   "pygments_lexer": "ipython3",
   "version": "3.7.1"
  }
 },
 "nbformat": 4,
 "nbformat_minor": 2
}
